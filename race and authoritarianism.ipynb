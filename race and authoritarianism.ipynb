{
 "cells": [
  {
   "cell_type": "code",
   "execution_count": 26,
   "metadata": {},
   "outputs": [],
   "source": [
    "library(readstata13)\n",
    "library(dplyr)\n",
    "library(lme4)\n",
    "library(nlme)\n",
    "library(car)\n",
    "library(psych)"
   ]
  },
  {
   "cell_type": "code",
   "execution_count": 27,
   "metadata": {},
   "outputs": [],
   "source": [
    "df = read.dta13(\"/Users/macintoshhd/Desktop/dataset/Western States Survey/data.dta\",  \n",
    "           missing.type=TRUE, generate.factors=TRUE)"
   ]
  },
  {
   "cell_type": "code",
   "execution_count": 28,
   "metadata": {},
   "outputs": [],
   "source": [
    "zero.one<-function(x){\n",
    "  min.x<-min(x, na.rm=T)\n",
    "  max.x<-max(x-min.x, na.rm=T)\n",
    "  return((x-min.x)/max.x)\n",
    "}\n",
    "\n",
    "state_list = c(\"Washington\", \"Oregon\", \"California\", \n",
    "         \"Idaho\", \"Utah\", \"Nevada\", \"Arizona\",\n",
    "         \"New Mexico\", \"Colorado\", \"Wyoming\", \n",
    "         \"Montana\", \"Texas\", \"Oklahoma\", \"Kansas\",\n",
    "         \"Sonora, Mexico\", \"Chihuaha, Mexico\", \n",
    "         \"Coahila, Mexico\", \"British Columbia, Canada\",\n",
    "         \"Alberta, Canada\")\n",
    "\n",
    "region_list = c(\"West\", \"Southwest\", \"Northwest\", \n",
    "           \"West Coast\", \"Intermountain West\",\n",
    "          \"Rocky Mountains\", \"Other\")\n",
    "\n",
    "state = ifelse(df$WSS01_1 == \"selected\", \"Washington\", NA) \n",
    "region = ifelse(df$WSS01_b_1 == \"selected\", \"West\", NA) \n",
    "\n",
    "opt = paste0(\"WSS01_\", c(2:19))\n",
    "for (i in 1:length(opt)){\n",
    "    state = ifelse(df[, opt[i]] == \"selected\", state_list[i+1] , state) \n",
    "}\n",
    "\n",
    "opt = paste0(\"WSS01_b_\", c(2:7))\n",
    "for (i in 1:length(opt)){\n",
    "    region = ifelse(df[, opt[i]] == \"selected\", region_list[i+1] , region) \n",
    "}\n",
    "\n",
    "df$vote1 <- car::recode(as.numeric(df$WSS36_b), \"1=1 ; 2=0; else=NA\")\n",
    "df$vote2 <- car::recode(as.numeric(df$WSS36_c), \"1=1 ; 2=0; else=NA\")\n",
    "df$voted <- ifelse(is.na(df$WSS36_b), df$vote2, df$vote1)\n",
    "\n",
    "                  \n",
    "df$state = state\n",
    "df$region = region\n"
   ]
  },
  {
   "cell_type": "code",
   "execution_count": 41,
   "metadata": {},
   "outputs": [],
   "source": [
    "agree_key <- list(`1`= 5, `2`= 4,`3`= 3, `4`= 2, `5`= 1)\n",
    "disagree_key <- list(`1`= 5, `2`= 4,`3`= 3, `4`= 2, `5`= 1)\n",
    "\n",
    "df <-  df %>%\n",
    "       mutate(state  =  state) %>%\n",
    "       mutate(region =  region) %>%\n",
    "       mutate(state_residence =  inputstate) %>%\n",
    "       mutate(state_identity_identity_strength = state) %>%\n",
    "    \n",
    "       mutate(age             = 2020 - birthyr) %>%\n",
    "       mutate(gen             = car::recode(age, \"18:39 = 'Millenial'; 40:59 = 'Gen X'; 60:80 = 'Boomer'; 80:92 = 'Greatest'\" )) %>%\n",
    "       mutate(female          = car::recode(as.numeric(gender), \"1=0; 2=1\")) %>%\n",
    "       mutate(white           = car::recode(as.numeric(race),  \"1=1 ;  2:8=0\"))  %>%\n",
    "       mutate(latino          = car::recode(as.numeric(race), \"3=1;  1:2=0; 4:8=0\"))  %>%\n",
    "       mutate(black           = car::recode(as.numeric(race), \" 2=1;  1=0; 3:8=0\"))  %>%\n",
    "       mutate(other           = car::recode(as.numeric(race), \" 1:3=0; 4:8=1\"))   %>%\n",
    "      # Always coded in conservative, republican direction\n",
    "       mutate(pid3            = car::recode(as.numeric(pid3), \"1=1; 2=3; 3=2\")) %>%\n",
    "       mutate(pid7            = car::recode(as.numeric(pid7), \"8:9 = NA\"))  %>%\n",
    "       mutate(vote2016        = car::recode(as.numeric(presvote16post), \"1=0; 2=1; else=NA\")) %>%\n",
    "       mutate(married         = car::recode(as.numeric(marstat), \"1=1; 2:6=0\")) %>%\n",
    "       mutate(college         = car::recode(as.numeric(educ), \"1:3=0; 4:8=1\"))   %>%\n",
    "       mutate(income          = car::recode(as.numeric(faminc_new), \"1:7=0; 8:17=1\"))  %>% \n",
    "       mutate(ideology        = dplyr::recode(as.numeric(ideo5), `1`=1, `2`=2, `3`=3, `4`=4, `5`=5)) %>%\n",
    "       mutate(christian       = dplyr::recode(as.numeric(religpew), `1`=1, `2`=1, `3`=1, `4`=1, `5`=0, `6`=0, `7`=0, `8`=0, `9`=0, `10`=0, `11`=0, `12`=0)) %>%\n",
    "       mutate(interest        = dplyr::recode(as.numeric(newsint), `1`=4, `2`=3, `3`=2, `4`=1)) %>%\n",
    "       mutate(auth1           = dplyr::recode(as.numeric(WSS07_1a), `1`= 0, `2`=1)) %>% \n",
    "       mutate(auth2           = dplyr::recode(as.numeric(WSS07_1b), `1`= 1, `2`=0)) %>% \n",
    "       mutate(auth3           = dplyr::recode(as.numeric(WSS07_1c), `1`= 0, `2`=1)) %>% \n",
    "       mutate(auth4           = dplyr::recode(as.numeric(WSS07_1d), `1`= 0, `2`=1)) %>%\n",
    "       mutate(az_t1           = dplyr::recode(as.numeric(WSS28_split), `1`= 0, `2`=1)) %>%\n",
    "       mutate(az_rep_state    = as.numeric(WSS28_1)) %>%\n",
    "       mutate(az_rep_nat      = as.numeric(WSS28_2)) %>%\n",
    "       mutate(az_dem_state    = as.numeric(WSS28_3)) %>%\n",
    "       mutate(az_dem_nat      = as.numeric(WSS28_4)) %>% \n",
    "       mutate(race            = car::recode(as.numeric(race), \"1=1; 2=2; 3=3; 4:8=NA\")) \n",
    "\n",
    "              \n"
   ]
  },
  {
   "cell_type": "code",
   "execution_count": 42,
   "metadata": {},
   "outputs": [],
   "source": [
    "\n",
    "df$authoritarianism = rowMeans(cbind(df$auth1, df$auth2, \n",
    "                                df$auth3, df$auth4), na.rm=T)"
   ]
  },
  {
   "cell_type": "markdown",
   "metadata": {},
   "source": [
    "### m0 is a intercept-only model"
   ]
  },
  {
   "cell_type": "code",
   "execution_count": 43,
   "metadata": {},
   "outputs": [
    {
     "data": {
      "text/plain": [
       "Linear mixed-effects model fit by maximum likelihood\n",
       "  Data: df1 \n",
       "      AIC      BIC    logLik\n",
       "  13942.8 13960.99 -6968.402\n",
       "\n",
       "Random effects:\n",
       " Formula: ~1 | state\n",
       "        (Intercept) Residual\n",
       "StdDev:    0.181639 2.179688\n",
       "\n",
       "Fixed effects:  pid7 ~ 1 \n",
       "               Value  Std.Error   DF  t-value p-value\n",
       "(Intercept) 3.686819 0.07748442 3149 47.58142       0\n",
       "\n",
       "Standardized Within-Group Residuals:\n",
       "        Min          Q1         Med          Q3         Max \n",
       "-1.35596518 -1.15980953  0.02037839  0.93794078  1.59287762 \n",
       "\n",
       "Number of Observations: 3168\n",
       "Number of Groups: 19 "
      ]
     },
     "metadata": {},
     "output_type": "display_data"
    }
   ],
   "source": [
    "df1 <- df %>% \n",
    "  select(pid7, age, female, race, college, authoritarianism, state) %>% na.omit()\n",
    "# race: 1-white, 2-black, 3-latino\n",
    "m0 <- lme(pid7 ~ 1,\n",
    "          data = df1,  \n",
    "          method = \"ML\", \n",
    "          na.action = \"na.omit\",\n",
    "          random = ~ 1|state)\n",
    "summary(m0)\n",
    "\n"
   ]
  },
  {
   "cell_type": "markdown",
   "metadata": {},
   "source": [
    "### m1 is a multilevel model with random intercept for states"
   ]
  },
  {
   "cell_type": "code",
   "execution_count": 44,
   "metadata": {},
   "outputs": [
    {
     "data": {
      "text/plain": [
       "Linear mixed-effects model fit by maximum likelihood\n",
       "  Data: df1 \n",
       "       AIC      BIC    logLik\n",
       "  13469.69 13536.36 -6723.844\n",
       "\n",
       "Random effects:\n",
       " Formula: ~1 | state\n",
       "        (Intercept) Residual\n",
       "StdDev:   0.1760153 2.017592\n",
       "\n",
       "Fixed effects:  pid7 ~ age + female + as.factor(race) + college + authoritarianism +      as.factor(race) * authoritarianism \n",
       "                                       Value Std.Error   DF   t-value p-value\n",
       "(Intercept)                        2.7494522 0.1514368 3141 18.155772  0.0000\n",
       "age                                0.0116408 0.0021767 3141  5.348002  0.0000\n",
       "female                            -0.2795868 0.0736664 3141 -3.795309  0.0002\n",
       "as.factor(race)2                  -0.3623113 0.3921291 3141 -0.923959  0.3556\n",
       "as.factor(race)3                  -0.0862119 0.1314702 3141 -0.655753  0.5120\n",
       "college                           -0.1235605 0.0758171 3141 -1.629717  0.1033\n",
       "authoritarianism                   2.3222825 0.1436991 3141 16.160726  0.0000\n",
       "as.factor(race)2:authoritarianism -2.5997742 0.5811868 3141 -4.473217  0.0000\n",
       "as.factor(race)3:authoritarianism -1.4719332 0.2233042 3141 -6.591605  0.0000\n",
       " Correlation: \n",
       "                                  (Intr) age    female as.()2 as.()3 colleg\n",
       "age                               -0.662                                   \n",
       "female                            -0.300  0.035                            \n",
       "as.factor(race)2                  -0.150  0.073 -0.006                     \n",
       "as.factor(race)3                  -0.400  0.206 -0.075  0.129              \n",
       "college                           -0.200 -0.169  0.065  0.051  0.058       \n",
       "authoritarianism                  -0.299 -0.143  0.012  0.140  0.397  0.184\n",
       "as.factor(race)2:authoritarianism  0.098 -0.004  0.008 -0.866 -0.108 -0.045\n",
       "as.factor(race)3:authoritarianism  0.190  0.058  0.021 -0.089 -0.765 -0.059\n",
       "                                  athrtr a.()2:\n",
       "age                                            \n",
       "female                                         \n",
       "as.factor(race)2                               \n",
       "as.factor(race)3                               \n",
       "college                                        \n",
       "authoritarianism                               \n",
       "as.factor(race)2:authoritarianism -0.243       \n",
       "as.factor(race)3:authoritarianism -0.628  0.154\n",
       "\n",
       "Standardized Within-Group Residuals:\n",
       "        Min          Q1         Med          Q3         Max \n",
       "-2.47855722 -0.84834817 -0.01749314  0.77602969  2.42625507 \n",
       "\n",
       "Number of Observations: 3168\n",
       "Number of Groups: 19 "
      ]
     },
     "metadata": {},
     "output_type": "display_data"
    }
   ],
   "source": [
    "m1 <- lme(pid7 ~ age + female + as.factor(race) + college  + authoritarianism + as.factor(race) * authoritarianism,\n",
    "           data = df1,\n",
    "           method = \"ML\", \n",
    "           na.action = \"na.omit\",\n",
    "           random = ~ 1|state)\n",
    "summary(m1)\n",
    "\n"
   ]
  },
  {
   "cell_type": "markdown",
   "metadata": {},
   "source": [
    "### m2 is a multilevel model with random slope for authoritrianism and random intercept for states"
   ]
  },
  {
   "cell_type": "code",
   "execution_count": 45,
   "metadata": {},
   "outputs": [
    {
     "data": {
      "text/plain": [
       "Linear mixed-effects model fit by maximum likelihood\n",
       "  Data: df1 \n",
       "       AIC      BIC    logLik\n",
       "  13473.69 13552.48 -6723.846\n",
       "\n",
       "Random effects:\n",
       " Formula: ~authoritarianism | state\n",
       " Structure: General positive-definite, Log-Cholesky parametrization\n",
       "                 StdDev     Corr  \n",
       "(Intercept)      0.17570343 (Intr)\n",
       "authoritarianism 0.01003074 -0.006\n",
       "Residual         2.01759642       \n",
       "\n",
       "Fixed effects:  pid7 ~ age + female + as.factor(race) + college + authoritarianism +      as.factor(race) * authoritarianism \n",
       "                                       Value Std.Error   DF   t-value p-value\n",
       "(Intercept)                        2.7494418 0.1514023 3141 18.159838  0.0000\n",
       "age                                0.0116397 0.0021766 3141  5.347562  0.0000\n",
       "female                            -0.2795866 0.0736666 3141 -3.795297  0.0002\n",
       "as.factor(race)2                  -0.3623959 0.3921308 3141 -0.924171  0.3555\n",
       "as.factor(race)3                  -0.0862955 0.1314700 3141 -0.656390  0.5116\n",
       "college                           -0.1235697 0.0758173 3141 -1.629835  0.1032\n",
       "authoritarianism                   2.3223375 0.1437759 3141 16.152479  0.0000\n",
       "as.factor(race)2:authoritarianism -2.5997012 0.5811952 3141 -4.473026  0.0000\n",
       "as.factor(race)3:authoritarianism -1.4718476 0.2233090 3141 -6.591079  0.0000\n",
       " Correlation: \n",
       "                                  (Intr) age    female as.()2 as.()3 colleg\n",
       "age                               -0.662                                   \n",
       "female                            -0.300  0.035                            \n",
       "as.factor(race)2                  -0.150  0.073 -0.006                     \n",
       "as.factor(race)3                  -0.400  0.206 -0.075  0.129              \n",
       "college                           -0.201 -0.169  0.065  0.051  0.058       \n",
       "authoritarianism                  -0.299 -0.143  0.012  0.140  0.396  0.184\n",
       "as.factor(race)2:authoritarianism  0.098 -0.004  0.008 -0.866 -0.108 -0.045\n",
       "as.factor(race)3:authoritarianism  0.190  0.058  0.021 -0.089 -0.765 -0.059\n",
       "                                  athrtr a.()2:\n",
       "age                                            \n",
       "female                                         \n",
       "as.factor(race)2                               \n",
       "as.factor(race)3                               \n",
       "college                                        \n",
       "authoritarianism                               \n",
       "as.factor(race)2:authoritarianism -0.242       \n",
       "as.factor(race)3:authoritarianism -0.628  0.154\n",
       "\n",
       "Standardized Within-Group Residuals:\n",
       "        Min          Q1         Med          Q3         Max \n",
       "-2.47841214 -0.84831420 -0.01747733  0.77606635  2.42612099 \n",
       "\n",
       "Number of Observations: 3168\n",
       "Number of Groups: 19 "
      ]
     },
     "metadata": {},
     "output_type": "display_data"
    }
   ],
   "source": [
    "m2 <- lme(pid7 ~ age + female + as.factor(race) + college + authoritarianism + as.factor(race) * authoritarianism,\n",
    "          data = df1,\n",
    "          method = \"ML\", \n",
    "          na.action = \"na.omit\",\n",
    "          random = ~ authoritarianism|state,\n",
    "          control = lmeControl(opt = 'optim'))\n",
    "summary(m2)\n",
    "\n"
   ]
  },
  {
   "cell_type": "code",
   "execution_count": 46,
   "metadata": {},
   "outputs": [
    {
     "data": {
      "text/html": [
       "<table>\n",
       "<thead><tr><th></th><th scope=col>call</th><th scope=col>Model</th><th scope=col>df</th><th scope=col>AIC</th><th scope=col>BIC</th><th scope=col>logLik</th><th scope=col>Test</th><th scope=col>L.Ratio</th><th scope=col>p-value</th></tr></thead>\n",
       "<tbody>\n",
       "\t<tr><th scope=row>m0</th><td>lme.formula(fixed = pid7 ~ 1, data = df1, random = ~1 | state,     method = \"ML\", na.action = \"na.omit\")                                                                                                                                                           </td><td>1                                                                                                                                                                                                                                                                  </td><td> 3                                                                                                                                                                                                                                                                 </td><td>13942.80                                                                                                                                                                                                                                                           </td><td>13960.99                                                                                                                                                                                                                                                           </td><td>-6968.402                                                                                                                                                                                                                                                          </td><td>                                                                                                                                                                                                                                                                   </td><td>          NA                                                                                                                                                                                                                                                       </td><td>           NA                                                                                                                                                                                                                                                      </td></tr>\n",
       "\t<tr><th scope=row>m1</th><td>lme.formula(fixed = pid7 ~ age + female + as.factor(race) + college +     authoritarianism + as.factor(race) * authoritarianism, data = df1,     random = ~1 | state, method = \"ML\", na.action = \"na.omit\")                                                        </td><td>2                                                                                                                                                                                                                                                                  </td><td>11                                                                                                                                                                                                                                                                 </td><td>13469.69                                                                                                                                                                                                                                                           </td><td>13536.36                                                                                                                                                                                                                                                           </td><td>-6723.844                                                                                                                                                                                                                                                          </td><td>1 vs 2                                                                                                                                                                                                                                                             </td><td>4.891152e+02                                                                                                                                                                                                                                                       </td><td>1.521653e-100                                                                                                                                                                                                                                                      </td></tr>\n",
       "\t<tr><th scope=row>m2</th><td>lme.formula(fixed = pid7 ~ age + female + as.factor(race) + college +     authoritarianism + as.factor(race) * authoritarianism, data = df1,     random = ~authoritarianism | state, method = \"ML\", na.action = \"na.omit\",     control = lmeControl(opt = \"optim\"))</td><td>3                                                                                                                                                                                                                                                                  </td><td>13                                                                                                                                                                                                                                                                 </td><td>13473.69                                                                                                                                                                                                                                                           </td><td>13552.48                                                                                                                                                                                                                                                           </td><td>-6723.846                                                                                                                                                                                                                                                          </td><td>2 vs 3                                                                                                                                                                                                                                                             </td><td>4.339583e-03                                                                                                                                                                                                                                                       </td><td> 9.978326e-01                                                                                                                                                                                                                                                      </td></tr>\n",
       "</tbody>\n",
       "</table>\n"
      ],
      "text/latex": [
       "\\begin{tabular}{r|lllllllll}\n",
       "  & call & Model & df & AIC & BIC & logLik & Test & L.Ratio & p-value\\\\\n",
       "\\hline\n",
       "\tm0 & lme.formula(fixed = pid7 \\textasciitilde{} 1, data = df1, random = \\textasciitilde{}1 \\textbar{} state,     method = \"ML\", na.action = \"na.omit\")                                                                                                                                                            & 1                                                                                                                                                                                                                                                                                                               &  3                                                                                                                                                                                                                                                                                                              & 13942.80                                                                                                                                                                                                                                                                                                        & 13960.99                                                                                                                                                                                                                                                                                                        & -6968.402                                                                                                                                                                                                                                                                                                       &                                                                                                                                                                                                                                                                                                                 &           NA                                                                                                                                                                                                                                                                                                    &            NA                                                                                                                                                                                                                                                                                                  \\\\\n",
       "\tm1 & lme.formula(fixed = pid7 \\textasciitilde{} age + female + as.factor(race) + college +     authoritarianism + as.factor(race) * authoritarianism, data = df1,     random = \\textasciitilde{}1 \\textbar{} state, method = \"ML\", na.action = \"na.omit\")                                                         & 2                                                                                                                                                                                                                                                                                                               & 11                                                                                                                                                                                                                                                                                                              & 13469.69                                                                                                                                                                                                                                                                                                        & 13536.36                                                                                                                                                                                                                                                                                                        & -6723.844                                                                                                                                                                                                                                                                                                       & 1 vs 2                                                                                                                                                                                                                                                                                                          & 4.891152e+02                                                                                                                                                                                                                                                                                                    & 1.521653e-100                                                                                                                                                                                                                                                                                                  \\\\\n",
       "\tm2 & lme.formula(fixed = pid7 \\textasciitilde{} age + female + as.factor(race) + college +     authoritarianism + as.factor(race) * authoritarianism, data = df1,     random = \\textasciitilde{}authoritarianism \\textbar{} state, method = \"ML\", na.action = \"na.omit\",     control = lmeControl(opt = \"optim\")) & 3                                                                                                                                                                                                                                                                                                               & 13                                                                                                                                                                                                                                                                                                              & 13473.69                                                                                                                                                                                                                                                                                                        & 13552.48                                                                                                                                                                                                                                                                                                        & -6723.846                                                                                                                                                                                                                                                                                                       & 2 vs 3                                                                                                                                                                                                                                                                                                          & 4.339583e-03                                                                                                                                                                                                                                                                                                    &  9.978326e-01                                                                                                                                                                                                                                                                                                  \\\\\n",
       "\\end{tabular}\n"
      ],
      "text/markdown": [
       "\n",
       "| <!--/--> | call | Model | df | AIC | BIC | logLik | Test | L.Ratio | p-value |\n",
       "|---|---|---|---|---|---|---|---|---|---|\n",
       "| m0 | lme.formula(fixed = pid7 ~ 1, data = df1, random = ~1 | state,     method = \"ML\", na.action = \"na.omit\")                                                                                                                                                            | 1                                                                                                                                                                                                                                                                   |  3                                                                                                                                                                                                                                                                  | 13942.80                                                                                                                                                                                                                                                            | 13960.99                                                                                                                                                                                                                                                            | -6968.402                                                                                                                                                                                                                                                           |                                                                                                                                                                                                                                                                     |           NA                                                                                                                                                                                                                                                        |            NA                                                                                                                                                                                                                                                       |\n",
       "| m1 | lme.formula(fixed = pid7 ~ age + female + as.factor(race) + college +     authoritarianism + as.factor(race) * authoritarianism, data = df1,     random = ~1 | state, method = \"ML\", na.action = \"na.omit\")                                                         | 2                                                                                                                                                                                                                                                                   | 11                                                                                                                                                                                                                                                                  | 13469.69                                                                                                                                                                                                                                                            | 13536.36                                                                                                                                                                                                                                                            | -6723.844                                                                                                                                                                                                                                                           | 1 vs 2                                                                                                                                                                                                                                                              | 4.891152e+02                                                                                                                                                                                                                                                        | 1.521653e-100                                                                                                                                                                                                                                                       |\n",
       "| m2 | lme.formula(fixed = pid7 ~ age + female + as.factor(race) + college +     authoritarianism + as.factor(race) * authoritarianism, data = df1,     random = ~authoritarianism | state, method = \"ML\", na.action = \"na.omit\",     control = lmeControl(opt = \"optim\")) | 3                                                                                                                                                                                                                                                                   | 13                                                                                                                                                                                                                                                                  | 13473.69                                                                                                                                                                                                                                                            | 13552.48                                                                                                                                                                                                                                                            | -6723.846                                                                                                                                                                                                                                                           | 2 vs 3                                                                                                                                                                                                                                                              | 4.339583e-03                                                                                                                                                                                                                                                        |  9.978326e-01                                                                                                                                                                                                                                                       |\n",
       "\n"
      ],
      "text/plain": [
       "   call                                                                                                                                                                                                                                                               \n",
       "m0 lme.formula(fixed = pid7 ~ 1, data = df1, random = ~1 | state,     method = \"ML\", na.action = \"na.omit\")                                                                                                                                                           \n",
       "m1 lme.formula(fixed = pid7 ~ age + female + as.factor(race) + college +     authoritarianism + as.factor(race) * authoritarianism, data = df1,     random = ~1 | state, method = \"ML\", na.action = \"na.omit\")                                                        \n",
       "m2 lme.formula(fixed = pid7 ~ age + female + as.factor(race) + college +     authoritarianism + as.factor(race) * authoritarianism, data = df1,     random = ~authoritarianism | state, method = \"ML\", na.action = \"na.omit\",     control = lmeControl(opt = \"optim\"))\n",
       "   Model df AIC      BIC      logLik    Test   L.Ratio      p-value      \n",
       "m0 1      3 13942.80 13960.99 -6968.402                  NA            NA\n",
       "m1 2     11 13469.69 13536.36 -6723.844 1 vs 2 4.891152e+02 1.521653e-100\n",
       "m2 3     13 13473.69 13552.48 -6723.846 2 vs 3 4.339583e-03  9.978326e-01"
      ]
     },
     "metadata": {},
     "output_type": "display_data"
    }
   ],
   "source": [
    "anova(m0, m1, m2)\n",
    "\n"
   ]
  },
  {
   "cell_type": "markdown",
   "metadata": {},
   "source": [
    "### the p value for m0 vs m1 is nearly to 0, which indicates, the model with random intercept performs much better than m0; the p value for m1 vs m2 is 0.998, which indicates the m2 does not performs better than m1; therefore, m1 should be the best model "
   ]
  },
  {
   "cell_type": "markdown",
   "metadata": {},
   "source": []
  },
  {
   "cell_type": "code",
   "execution_count": null,
   "metadata": {},
   "outputs": [],
   "source": []
  }
 ],
 "metadata": {
  "kernelspec": {
   "display_name": "R",
   "language": "R",
   "name": "ir"
  },
  "language_info": {
   "codemirror_mode": "r",
   "file_extension": ".r",
   "mimetype": "text/x-r-source",
   "name": "R",
   "pygments_lexer": "r",
   "version": "3.6.1"
  }
 },
 "nbformat": 4,
 "nbformat_minor": 4
}
